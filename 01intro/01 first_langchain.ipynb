{
 "cells": [
  {
   "cell_type": "code",
   "execution_count": 1,
   "id": "05c7e548",
   "metadata": {},
   "outputs": [
    {
     "name": "stdout",
     "output_type": "stream",
     "text": [
      "\"Learning to code is an investment in yourself, and the skills you'll gain will open doors to new opportunities and challenges. Don't be discouraged by setbacks - every programmer faces obstacles along the way, but it's how you respond that matters. With persistence and dedication, you can turn your passion for programming into a rewarding career and unlock a future of endless possibilities!\"\n"
     ]
    }
   ],
   "source": [
    "from langchain_ollama import OllamaLLM\n",
    "from langchain.prompts import PromptTemplate\n",
    "\n",
    "# Local Model\n",
    "llm = OllamaLLM(model=\"llama3\", temperature=0.7)\n",
    "\n",
    "# Prompt \n",
    "prompt = PromptTemplate.from_template(\n",
    "    \"Write a motivational text for someone who wants to learn programming in 3 sentence.\"\n",
    ")\n",
    "\n",
    "# استفاده از LangChain Expression Language (LCEL)\n",
    "chain = prompt | llm\n",
    "\n",
    "# اجرای زنجیره\n",
    "response = chain.invoke({})\n",
    "print(response)\n"
   ]
  },
  {
   "cell_type": "code",
   "execution_count": 2,
   "id": "9909727c",
   "metadata": {},
   "outputs": [
    {
     "name": "stdout",
     "output_type": "stream",
     "text": [
      "\"Learning to code is an investment in yourself, and the skills you'll gain will open doors to new opportunities and challenges\n",
      "Don't be discouraged by setbacks - every programmer faces obstacles along the way, but it's how you respond that matters\n",
      "With persistence and dedication, you can turn your passion for programming into a rewarding career and unlock a future of endless possibilities!\"\n"
     ]
    }
   ],
   "source": [
    "# تبدیل \\n به خط واقعی\n",
    "lines = response.split(\".\")\n",
    "\n",
    "# چاپ مرتب خط به خط\n",
    "for i, line in enumerate(lines, start=1):\n",
    "    print(f\"{line.strip()}\")"
   ]
  },
  {
   "cell_type": "code",
   "execution_count": null,
   "id": "5586c4a6",
   "metadata": {},
   "outputs": [],
   "source": []
  }
 ],
 "metadata": {
  "kernelspec": {
   "display_name": "venv",
   "language": "python",
   "name": "python3"
  },
  "language_info": {
   "codemirror_mode": {
    "name": "ipython",
    "version": 3
   },
   "file_extension": ".py",
   "mimetype": "text/x-python",
   "name": "python",
   "nbconvert_exporter": "python",
   "pygments_lexer": "ipython3",
   "version": "3.12.3"
  }
 },
 "nbformat": 4,
 "nbformat_minor": 5
}
