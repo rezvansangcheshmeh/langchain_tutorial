{
 "cells": [
  {
   "cell_type": "code",
   "execution_count": 3,
   "id": "b8ad482d",
   "metadata": {},
   "outputs": [],
   "source": [
    "from langchain_ollama.llms import OllamaLLM\n",
    "import sqlite3\n",
    "\n",
    "llm = OllamaLLM(model=\"llama3:latest\", temperature=0.7)\n",
    "# response = llm.invoke(\"Hello, how are you?\")\n",
    "# print(response)\n"
   ]
  },
  {
   "cell_type": "code",
   "execution_count": 4,
   "id": "11d40061",
   "metadata": {},
   "outputs": [],
   "source": [
    "from langchain.tools import tool\n",
    "\n",
    "@tool\n",
    "def query_database(query: str) -> str:\n",
    "    \"\"\"Run a SQL query on the company database.\"\"\"\n",
    "    try:\n",
    "        conn = sqlite3.connect(\"company.db\")\n",
    "        cursor = conn.cursor()\n",
    "        cursor.execute(query)\n",
    "        rows = cursor.fetchall()\n",
    "        conn.close()\n",
    "        return str(rows)\n",
    "    except Exception as e:\n",
    "        return f\"Error: {e}\"\n"
   ]
  },
  {
   "cell_type": "code",
   "execution_count": 5,
   "id": "73d2ff1c",
   "metadata": {},
   "outputs": [
    {
     "name": "stderr",
     "output_type": "stream",
     "text": [
      "C:\\Users\\rezva\\AppData\\Local\\Temp\\ipykernel_8152\\3979333104.py:5: LangChainDeprecationWarning: LangChain agents will continue to be supported, but it is recommended for new use cases to be built with LangGraph. LangGraph offers a more flexible and full-featured framework for building agents, including support for tool-calling, persistence of state, and human-in-the-loop workflows. For details, refer to the `LangGraph documentation <https://langchain-ai.github.io/langgraph/>`_ as well as guides for `Migrating from AgentExecutor <https://python.langchain.com/docs/how_to/migrate_agent/>`_ and LangGraph's `Pre-built ReAct agent <https://langchain-ai.github.io/langgraph/how-tos/create-react-agent/>`_.\n",
      "  agent_executor = initialize_agent(\n"
     ]
    }
   ],
   "source": [
    "from langchain.agents import initialize_agent\n",
    "\n",
    "tools = [query_database]\n",
    "\n",
    "agent_executor = initialize_agent(\n",
    "    tools=tools,\n",
    "    llm=llm,\n",
    "    agent_type=\"zero-shot-react-description\",\n",
    "    verbose=True\n",
    ")\n"
   ]
  },
  {
   "cell_type": "code",
   "execution_count": 6,
   "id": "9ad4f5a2",
   "metadata": {},
   "outputs": [
    {
     "name": "stdout",
     "output_type": "stream",
     "text": [
      "\n",
      "\n",
      "\u001b[1m> Entering new AgentExecutor chain...\u001b[0m\n",
      "\u001b[32;1m\u001b[1;3mThought: To list all employees in the Engineering department, I'll need to run a query that filters employees by their department.\n",
      "\n",
      "Action: query_database\n",
      "Action Input: \"SELECT * FROM employees WHERE department = 'Engineering';\"\u001b[0m\n",
      "Observation: \u001b[36;1m\u001b[1;3m[(1, 'Ali', 'Engineering', 8000), (3, 'Reza', 'Engineering', 9000)]\u001b[0m\n",
      "Thought:\u001b[32;1m\u001b[1;3mHere's the continuation:\n",
      "\n",
      "Thought: Now that I have the list of employees in the Engineering department, I can extract the necessary information.\n",
      "\n",
      "Action: query_database\n",
      "Action Input: \"SELECT name FROM employees WHERE department = 'Engineering';\"\u001b[0m\n",
      "Observation: \u001b[36;1m\u001b[1;3m[('Ali',), ('Reza',)]\u001b[0m\n",
      "Thought:\u001b[32;1m\u001b[1;3mLet's continue from where we left off:\n",
      "\n",
      "Question: What are the names of all employees in Engineering department?\n",
      "\n",
      "Thought: Since I already have the list of employees in the Engineering department, I can extract their names by running another query.\n",
      "\n",
      "Action: query_database\n",
      "Action Input: \"SELECT name FROM (SELECT * FROM employees WHERE department = 'Engineering') as temp;\"\u001b[0m\n",
      "Observation: \u001b[36;1m\u001b[1;3m[('Ali',), ('Reza',)]\u001b[0m\n",
      "Thought:\u001b[32;1m\u001b[1;3mI'll follow the format you provided. Here's my response:\n",
      "\n",
      "Question: What are the names of all employees in Engineering department?\n",
      "\n",
      "Thought: Since I already have the list of employees in the Engineering department, I can extract their names by running another query.\n",
      "\n",
      "Action: query_database\n",
      "Action Input: \"SELECT name FROM (SELECT * FROM employees WHERE department = 'Engineering') as temp;\"\u001b[0m\n",
      "Observation: \u001b[36;1m\u001b[1;3m[('Ali',), ('Reza',)]\u001b[0m\n",
      "Thought:\u001b[32;1m\u001b[1;3mFinal Answer: Ali, Reza\u001b[0m\n",
      "\n",
      "\u001b[1m> Finished chain.\u001b[0m\n",
      "👨‍💻 Engineering Employees: Ali, Reza\n"
     ]
    }
   ],
   "source": [
    "response = agent_executor.invoke({\"input\": \"List all employees in Engineering department.\"})\n",
    "print(\"👨‍💻 Engineering Employees:\", response[\"output\"])"
   ]
  },
  {
   "cell_type": "code",
   "execution_count": 7,
   "id": "0c73d026",
   "metadata": {},
   "outputs": [
    {
     "name": "stdout",
     "output_type": "stream",
     "text": [
      "\n",
      "\n",
      "\u001b[1m> Entering new AgentExecutor chain...\u001b[0m\n",
      "\u001b[32;1m\u001b[1;3mLet's get started.\n",
      "\n",
      "Thought: To find the average salary of employees, I'll need to query the database for all employee salaries and then calculate the average. I'll use a SQL query to retrieve the necessary information.\n",
      "\n",
      "Action: query_database\n",
      "Action Input: \"SELECT AVG(salary) FROM employees;\"\u001b[0m\n",
      "Observation: \u001b[36;1m\u001b[1;3m[(7833.333333333333,)]\u001b[0m\n",
      "Thought:\u001b[32;1m\u001b[1;3mHere's my attempt at answering the question:\n",
      "\n",
      "Question: What is the average salary of employees?\n",
      "Thought: Let's get started.\n",
      "Thought: To find the average salary of employees, I'll need to query the database for all employee salaries and then calculate the average. I'll use a SQL query to retrieve the necessary information.\n",
      "\n",
      "Action: query_database\n",
      "Action Input: \"SELECT AVG(salary) FROM employees;\"\u001b[0m\n",
      "Observation: \u001b[36;1m\u001b[1;3m[(7833.333333333333,)]\u001b[0m\n",
      "Thought:\u001b[32;1m\u001b[1;3mHere's my attempt at answering the question:\n",
      "\n",
      "Final Answer: The average salary of employees is $7833.33.\n",
      "\n",
      "Note that I'm assuming the result returned by the database query is a single value, which represents the average salary of all employees. If there were multiple results or errors in the query, I would need to adjust my response accordingly.\u001b[0m\n",
      "\n",
      "\u001b[1m> Finished chain.\u001b[0m\n",
      "💰 Average Salary: The average salary of employees is $7833.33.\n",
      "\n",
      "Note that I'm assuming the result returned by the database query is a single value, which represents the average salary of all employees. If there were multiple results or errors in the query, I would need to adjust my response accordingly.\n"
     ]
    }
   ],
   "source": [
    "# سوال ۲: میانگین حقوق کارمندان\n",
    "response = agent_executor.invoke({\"input\": \"What is the average salary of employees?\"})\n",
    "print(\"💰 Average Salary:\", response[\"output\"])"
   ]
  },
  {
   "cell_type": "code",
   "execution_count": null,
   "id": "94311d9e",
   "metadata": {},
   "outputs": [
    {
     "name": "stdout",
     "output_type": "stream",
     "text": [
      "\n",
      "\n",
      "\u001b[1m> Entering new AgentExecutor chain...\u001b[0m\n",
      "\u001b[32;1m\u001b[1;3mThought: To show all projects with deadlines in October, I need to run a SQL query on our company database. The query should filter results to only include projects with deadlines that fall within the month of October.\n",
      "\n",
      "Action: query_database\n",
      "Action Input: \"SELECT * FROM projects WHERE deadline MONTH = '10'\"\u001b[0m\n",
      "Observation: \u001b[36;1m\u001b[1;3mError: near \"MONTH\": syntax error\u001b[0m\n",
      "Thought:\u001b[32;1m\u001b[1;3mLet's think this through!\n",
      "\n",
      "Thought: The error message suggests that there's a syntax issue with the query. I'm not familiar with the specific SQL dialect used by our company database, but in standard SQL, the MONTH function is not used to extract the month from a date.\n",
      "\n",
      "Action: query_database\n",
      "Action Input: \"SELECT * FROM projects WHERE deadline >= '2023-10-01' AND deadline < '2024-11-01'\"\u001b[0m\n",
      "Observation: \u001b[36;1m\u001b[1;3m[]\u001b[0m\n",
      "Thought:"
     ]
    }
   ],
   "source": [
    "# سوال ۳: پروژه‌هایی با ددلاین در اکتبر\n",
    "response = agent_executor.invoke({\"input\": \"Show all projects with deadlines in October.\"})\n",
    "print(\"📅 October Projects:\", response[\"output\"])"
   ]
  },
  {
   "cell_type": "code",
   "execution_count": null,
   "id": "708fe39e",
   "metadata": {},
   "outputs": [],
   "source": []
  }
 ],
 "metadata": {
  "kernelspec": {
   "display_name": "venv",
   "language": "python",
   "name": "python3"
  },
  "language_info": {
   "codemirror_mode": {
    "name": "ipython",
    "version": 3
   },
   "file_extension": ".py",
   "mimetype": "text/x-python",
   "name": "python",
   "nbconvert_exporter": "python",
   "pygments_lexer": "ipython3",
   "version": "3.12.3"
  }
 },
 "nbformat": 4,
 "nbformat_minor": 5
}
