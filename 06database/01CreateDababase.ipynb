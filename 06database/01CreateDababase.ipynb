{
 "cells": [
  {
   "cell_type": "code",
   "execution_count": 1,
   "id": "6e7b556a",
   "metadata": {},
   "outputs": [],
   "source": [
    "import sqlite3\n",
    "\n",
    "# ساخت دیتابیس\n",
    "conn = sqlite3.connect(\"company.db\")\n",
    "cursor = conn.cursor()\n",
    "\n",
    "# جدول کارمندان\n",
    "cursor.execute(\"\"\"\n",
    "CREATE TABLE IF NOT EXISTS employees (\n",
    "    id INTEGER PRIMARY KEY,\n",
    "    name TEXT,\n",
    "    department TEXT,\n",
    "    salary INTEGER\n",
    ")\n",
    "\"\"\")\n",
    "\n",
    "# جدول پروژه‌ها\n",
    "cursor.execute(\"\"\"\n",
    "CREATE TABLE IF NOT EXISTS projects (\n",
    "    id INTEGER PRIMARY KEY,\n",
    "    title TEXT,\n",
    "    owner_id INTEGER,\n",
    "    deadline TEXT,\n",
    "    FOREIGN KEY(owner_id) REFERENCES employees(id)\n",
    ")\n",
    "\"\"\")\n",
    "\n",
    "# داده‌های تستی\n",
    "cursor.executemany(\"INSERT INTO employees (name, department, salary) VALUES (?, ?, ?)\", [\n",
    "    (\"Ali\", \"Engineering\", 8000),\n",
    "    (\"Sara\", \"Marketing\", 6500),\n",
    "    (\"Reza\", \"Engineering\", 9000),\n",
    "])\n",
    "\n",
    "cursor.executemany(\"INSERT INTO projects (title, owner_id, deadline) VALUES (?, ?, ?)\", [\n",
    "    (\"Website Redesign\", 1, \"2025-10-01\"),\n",
    "    (\"Ad Campaign\", 2, \"2025-09-15\"),\n",
    "    (\"AI Prototype\", 3, \"2025-11-20\"),\n",
    "])\n",
    "\n",
    "conn.commit()\n",
    "conn.close()\n"
   ]
  },
  {
   "cell_type": "code",
   "execution_count": null,
   "id": "e7b3ece9",
   "metadata": {},
   "outputs": [],
   "source": []
  }
 ],
 "metadata": {
  "kernelspec": {
   "display_name": "venv",
   "language": "python",
   "name": "python3"
  },
  "language_info": {
   "codemirror_mode": {
    "name": "ipython",
    "version": 3
   },
   "file_extension": ".py",
   "mimetype": "text/x-python",
   "name": "python",
   "nbconvert_exporter": "python",
   "pygments_lexer": "ipython3",
   "version": "3.12.3"
  }
 },
 "nbformat": 4,
 "nbformat_minor": 5
}
