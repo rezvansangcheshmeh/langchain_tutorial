{
 "cells": [
  {
   "cell_type": "code",
   "execution_count": 6,
   "id": "3434c310",
   "metadata": {},
   "outputs": [
    {
     "name": "stdout",
     "output_type": "stream",
     "text": [
      "\"With every line of code you write, you're one step closer to unlocking the limitless possibilities of Python and empowering yourself with the skills to create something truly amazing!\"\n"
     ]
    }
   ],
   "source": [
    "from langchain_ollama import OllamaLLM\n",
    "from langchain.prompts import PromptTemplate\n",
    "\n",
    "# تعریف مدل لوکال\n",
    "llm = OllamaLLM(model=\"llama3\", temperature=0.7)\n",
    "\n",
    "# تعریف پرامپت با متغیر\n",
    "prompt = PromptTemplate.from_template(\n",
    "    \"Write a motivational sentence for someone learning {topic}. in 1 sentence\"\n",
    ")\n",
    "\n",
    "# ترکیب پرامپت و مدل با LCEL\n",
    "chain = prompt | llm\n",
    "\n",
    "# اجرای زنجیره با مقداردهی به متغیر\n",
    "response = chain.invoke({\"topic\": \"Python programming\"})\n",
    "\n",
    "# چاپ خروجی\n",
    "print(response)\n"
   ]
  },
  {
   "cell_type": "code",
   "execution_count": 8,
   "id": "39df303e",
   "metadata": {},
   "outputs": [
    {
     "name": "stdout",
     "output_type": "stream",
     "text": [
      "\n",
      "✅ ترجمه فارسی خلاصه انگیزشی:\n",
      "\n",
      "Here is the translation of the sentence in Persian:\n",
      "\n",
      "هنگام که MACHINE LEARNING را یاد می گیرید، به خاطر بیاورد که نه فقط درباره الگوریتم ها و مدل هاست بلکه درباره خلاقیت و determination خودتان است تا آینده هوش مصنوعی را شکل دهید و مشکلات دنیوی واقعی را حل کنید.\n",
      "\n",
      "Note: In Persian, the word order is often flexible and may vary depending on the context. This translation aims to preserve the original meaning while adapting it to Persian syntax.\n"
     ]
    }
   ],
   "source": [
    "from langchain_ollama import OllamaLLM\n",
    "from langchain.prompts import PromptTemplate\n",
    "\n",
    "# مدل لوکال\n",
    "llm = OllamaLLM(model=\"llama3\", temperature=0.7)\n",
    "\n",
    "# مرحله ۱: تولید متن انگیزشی\n",
    "generate_prompt = PromptTemplate.from_template(\n",
    "    \"Write a motivational paragraph for someone learning {topic}.\"\n",
    ")\n",
    "generate_chain = generate_prompt | llm\n",
    "\n",
    "# مرحله ۲: خلاصه‌سازی\n",
    "summarize_prompt = PromptTemplate.from_template(\n",
    "    \"Summarize the following paragraph in one sentence:\\n{input}\"\n",
    ")\n",
    "summarize_chain = summarize_prompt | llm\n",
    "\n",
    "# مرحله ۳: ترجمه به فارسی\n",
    "translate_prompt = PromptTemplate.from_template(\n",
    "    \"Translate the following sentence to Persian:\\n{input}\"\n",
    ")\n",
    "translate_chain = translate_prompt | llm\n",
    "\n",
    "# ساخت زنجیره‌ی کامل با pipe\n",
    "chain = generate_chain | summarize_chain | translate_chain\n",
    "\n",
    "# اجرای زنجیره\n",
    "result = chain.invoke({\"topic\": \"machine learning\"})\n",
    "\n",
    "# چاپ خروجی نهایی\n",
    "print(\"\\n✅ ترجمه فارسی خلاصه انگیزشی:\\n\")\n",
    "print(result)\n"
   ]
  },
  {
   "cell_type": "code",
   "execution_count": 9,
   "id": "1dafcb56",
   "metadata": {},
   "outputs": [
    {
     "data": {
      "text/plain": [
       "'Here is the translation of the sentence in Persian:\\n\\nهنگام که MACHINE LEARNING را یاد می گیرید، به خاطر بیاورد که نه فقط درباره الگوریتم ها و مدل هاست بلکه درباره خلاقیت و determination خودتان است تا آینده هوش مصنوعی را شکل دهید و مشکلات دنیوی واقعی را حل کنید.\\n\\nNote: In Persian, the word order is often flexible and may vary depending on the context. This translation aims to preserve the original meaning while adapting it to Persian syntax.'"
      ]
     },
     "execution_count": 9,
     "metadata": {},
     "output_type": "execute_result"
    }
   ],
   "source": [
    "result"
   ]
  },
  {
   "cell_type": "markdown",
   "id": "eb9b62cc",
   "metadata": {},
   "source": [
    "# Enhance Prompt"
   ]
  },
  {
   "cell_type": "code",
   "execution_count": 11,
   "id": "8ab7c239",
   "metadata": {},
   "outputs": [
    {
     "name": "stdout",
     "output_type": "stream",
     "text": [
      "\n",
      "✅ ترجمه فارسی خلاصه انگیزشی:\n",
      "\n",
      "همه گام‌های یادگیری ماشین فرصت جدیدی برای آشنایی باpossibilities جدید و در صنعت‌ها به تبدیلی بزرگ است و با پایستگی و عشق، تأثیر実ی خواهید داشت و مشکلات دنیوی واقعی را حل خواهید کرد.\n"
     ]
    }
   ],
   "source": [
    "from langchain_ollama import OllamaLLM\n",
    "from langchain.prompts import PromptTemplate\n",
    "\n",
    "# مدل لوکال\n",
    "llm = OllamaLLM(model=\"llama3\", temperature=0.7)\n",
    "\n",
    "# مرحله ۱: تولید متن انگیزشی\n",
    "generate_prompt = PromptTemplate.from_template(\n",
    "    \"Write a motivational paragraph for someone learning {topic}.\"\n",
    ")\n",
    "generate_chain = generate_prompt | llm\n",
    "\n",
    "# مرحله ۲: خلاصه‌سازی\n",
    "summarize_prompt = PromptTemplate.from_template(\n",
    "    \"Summarize the following paragraph in one sentence:\\n{input}\"\n",
    ")\n",
    "summarize_chain = summarize_prompt | llm\n",
    "\n",
    "# مرحله ۳: ترجمه به فارسی\n",
    "translate_prompt = PromptTemplate.from_template(\n",
    "    \"Translate the following sentence to Persian:\\n{input} , just return translated text and just return Persian text without any note and any English text\"\n",
    ")\n",
    "translate_chain = translate_prompt | llm\n",
    "\n",
    "# ساخت زنجیره‌ی کامل با pipe\n",
    "chain = generate_chain | summarize_chain | translate_chain\n",
    "\n",
    "# اجرای زنجیره\n",
    "result = chain.invoke({\"topic\": \"machine learning\"})\n",
    "\n",
    "# چاپ خروجی نهایی\n",
    "print(\"\\n✅ ترجمه فارسی خلاصه انگیزشی:\\n\")\n",
    "print(result)\n"
   ]
  },
  {
   "cell_type": "code",
   "execution_count": null,
   "id": "73e00b42",
   "metadata": {},
   "outputs": [],
   "source": []
  }
 ],
 "metadata": {
  "kernelspec": {
   "display_name": "venv",
   "language": "python",
   "name": "python3"
  },
  "language_info": {
   "codemirror_mode": {
    "name": "ipython",
    "version": 3
   },
   "file_extension": ".py",
   "mimetype": "text/x-python",
   "name": "python",
   "nbconvert_exporter": "python",
   "pygments_lexer": "ipython3",
   "version": "3.12.3"
  }
 },
 "nbformat": 4,
 "nbformat_minor": 5
}
