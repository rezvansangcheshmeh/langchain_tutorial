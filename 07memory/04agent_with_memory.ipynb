{
 "cells": [
  {
   "cell_type": "code",
   "execution_count": 10,
   "id": "4da7da61",
   "metadata": {},
   "outputs": [],
   "source": [
    "from langchain_ollama import OllamaLLM\n",
    "from langchain.agents import initialize_agent\n",
    "from langchain.tools import tool\n",
    "from langchain.chains import LLMChain\n",
    "from langchain.prompts import PromptTemplate\n",
    "\n",
    "llm = OllamaLLM(model=\"llama3\", temperature=0.7)\n"
   ]
  },
  {
   "cell_type": "code",
   "execution_count": 11,
   "id": "c17d45e2",
   "metadata": {},
   "outputs": [],
   "source": [
    "\n",
    "\n",
    "custom_prompt = PromptTemplate.from_template(\n",
    "    \"You are a concise and helpful assistant. Always respond in short, direct sentences.\\n\"\n",
    "    \"Avoid unnecessary details.\\n\\n\"\n",
    "    \"Conversation history:\\n{chat_history}\\n\\n\"\n",
    "    \"User: {input}\\n\\n\"\n",
    "    \"{agent_scratchpad}\"\n",
    ")\n"
   ]
  },
  {
   "cell_type": "code",
   "execution_count": 12,
   "id": "a96ee48b",
   "metadata": {},
   "outputs": [],
   "source": [
    "# پرامپت برای تولید جمله انگیزشی کوتاه\n",
    "motivational_prompt = PromptTemplate.from_template(\n",
    "    \"Write a short motivational sentence (max 15 words) for someone learning {topic}.\"\n",
    ")\n",
    "\n",
    "motivational_chain = LLMChain(llm=llm, prompt=motivational_prompt)"
   ]
  },
  {
   "cell_type": "code",
   "execution_count": null,
   "id": "86676115",
   "metadata": {},
   "outputs": [],
   "source": [
    "@tool\n",
    "def motivate(topic: str) -> str:\n",
    "    \"\"\"Generate a short motivational sentence for someone learning a topic.\"\"\"\n",
    "    return motivational_chain.invoke({\"topic\": topic})\n",
    "\n",
    "@tool\n",
    "def echo_message(message: str) -> str:\n",
    "    \"\"\"Echo the user's message back.\"\"\"\n",
    "    return f\"You said: {message}\"\n",
    "\n",
    "tools = [echo_message, motivate]"
   ]
  },
  {
   "cell_type": "code",
   "execution_count": null,
   "id": "71b8aaca",
   "metadata": {},
   "outputs": [],
   "source": [
    "\n"
   ]
  },
  {
   "cell_type": "code",
   "execution_count": null,
   "id": "c42d72cd",
   "metadata": {},
   "outputs": [],
   "source": []
  },
  {
   "cell_type": "code",
   "execution_count": 16,
   "id": "c60656cb",
   "metadata": {},
   "outputs": [],
   "source": [
    "from langchain.memory import ConversationBufferMemory\n",
    "\n",
    "memory = ConversationBufferMemory(\n",
    "    memory_key=\"chat_history\",\n",
    "    return_messages=True\n",
    ")"
   ]
  },
  {
   "cell_type": "code",
   "execution_count": 17,
   "id": "e086cf72",
   "metadata": {},
   "outputs": [],
   "source": [
    "agent_executor = initialize_agent(\n",
    "    tools=tools,\n",
    "    llm=llm,\n",
    "    memory=memory,\n",
    "    agent_type=\"conversational-react-description\",\n",
    "    prompt=custom_prompt,\n",
    "    verbose=False\n",
    ")\n"
   ]
  },
  {
   "cell_type": "code",
   "execution_count": null,
   "id": "9ad4168b",
   "metadata": {},
   "outputs": [],
   "source": [
    "response = agent_executor.invoke({\"input\": \"Hi, I'm Rezvan.\"})\n",
    "print(response[\"output\"])"
   ]
  },
  {
   "cell_type": "code",
   "execution_count": null,
   "id": "feee258f",
   "metadata": {},
   "outputs": [],
   "source": [
    "response = agent_executor.invoke({\"input\": \"Can you remember my name?\"})\n",
    "print(response[\"output\"])"
   ]
  },
  {
   "cell_type": "code",
   "execution_count": null,
   "id": "6a7a81a2",
   "metadata": {},
   "outputs": [],
   "source": [
    "response = agent_executor.invoke({\"input\": \"Echo this: I love LangChain.\"})\n",
    "print(response[\"output\"])"
   ]
  },
  {
   "cell_type": "code",
   "execution_count": null,
   "id": "5ac5790a",
   "metadata": {},
   "outputs": [],
   "source": [
    "response = agent_executor.invoke({\"input\": \"What did I say earlier?\"})\n",
    "print(response[\"output\"])"
   ]
  },
  {
   "cell_type": "code",
   "execution_count": null,
   "id": "4804f25d",
   "metadata": {},
   "outputs": [],
   "source": []
  }
 ],
 "metadata": {
  "kernelspec": {
   "display_name": "venv",
   "language": "python",
   "name": "python3"
  },
  "language_info": {
   "codemirror_mode": {
    "name": "ipython",
    "version": 3
   },
   "file_extension": ".py",
   "mimetype": "text/x-python",
   "name": "python",
   "nbconvert_exporter": "python",
   "pygments_lexer": "ipython3",
   "version": "3.12.3"
  }
 },
 "nbformat": 4,
 "nbformat_minor": 5
}
