{
 "cells": [
  {
   "cell_type": "code",
   "execution_count": 1,
   "id": "eaf62633",
   "metadata": {},
   "outputs": [],
   "source": [
    "from langchain_ollama import OllamaLLM\n",
    "llm = OllamaLLM(model=\"llama3\", temperature=0.7)\n"
   ]
  },
  {
   "cell_type": "code",
   "execution_count": 2,
   "id": "9f7b5d2a",
   "metadata": {},
   "outputs": [
    {
     "name": "stderr",
     "output_type": "stream",
     "text": [
      "C:\\Users\\rezva\\AppData\\Local\\Temp\\ipykernel_10380\\3659895404.py:5: LangChainDeprecationWarning: Please see the migration guide at: https://python.langchain.com/docs/versions/migrating_memory/\n",
      "  summary_memory = ConversationSummaryMemory(\n",
      "C:\\Users\\rezva\\AppData\\Local\\Temp\\ipykernel_10380\\3659895404.py:11: LangChainDeprecationWarning: The class `ConversationChain` was deprecated in LangChain 0.2.7 and will be removed in 1.0. Use :class:`~langchain_core.runnables.history.RunnableWithMessageHistory` instead.\n",
      "  conversation = ConversationChain(\n"
     ]
    }
   ],
   "source": [
    "from langchain.memory import ConversationSummaryMemory\n",
    "from langchain.chains import ConversationChain\n",
    "\n",
    "# حافظه‌ای که مکالمه رو خلاصه می‌کنه\n",
    "summary_memory = ConversationSummaryMemory(\n",
    "    llm=llm,\n",
    "    return_messages=True\n",
    ")\n",
    "\n",
    "# ساخت چت‌بات با حافظه خلاصه‌ساز\n",
    "conversation = ConversationChain(\n",
    "    llm=llm,\n",
    "    memory=summary_memory,\n",
    "    verbose=True\n",
    ")\n"
   ]
  },
  {
   "cell_type": "code",
   "execution_count": 3,
   "id": "284958ac",
   "metadata": {},
   "outputs": [
    {
     "name": "stdout",
     "output_type": "stream",
     "text": [
      "\n",
      "\n",
      "\u001b[1m> Entering new ConversationChain chain...\u001b[0m\n",
      "Prompt after formatting:\n",
      "\u001b[32;1m\u001b[1;3mThe following is a friendly conversation between a human and an AI. The AI is talkative and provides lots of specific details from its context. If the AI does not know the answer to a question, it truthfully says it does not know.\n",
      "\n",
      "Current conversation:\n",
      "[SystemMessage(content='', additional_kwargs={}, response_metadata={})]\n",
      "Human: Hi, I'm Rezvan. I'm learning Python.\n",
      "AI:\u001b[0m\n",
      "\n",
      "\u001b[1m> Finished chain.\u001b[0m\n",
      "Nice to meet you, Rezvan! I'm happy to help with your Python journey. What specifically are you trying to learn or accomplish in Python? Are you working on a project, exploring libraries like NumPy or Pandas, or perhaps diving into machine learning with scikit-learn or TensorFlow?\n"
     ]
    }
   ],
   "source": [
    "response = conversation.invoke({\"input\": \"Hi, I'm Rezvan. I'm learning Python.\"})\n",
    "print(response[\"response\"])\n",
    "\n"
   ]
  },
  {
   "cell_type": "code",
   "execution_count": 4,
   "id": "f0002089",
   "metadata": {},
   "outputs": [
    {
     "name": "stdout",
     "output_type": "stream",
     "text": [
      "\n",
      "\n",
      "\u001b[1m> Entering new ConversationChain chain...\u001b[0m\n",
      "Prompt after formatting:\n",
      "\u001b[32;1m\u001b[1;3mThe following is a friendly conversation between a human and an AI. The AI is talkative and provides lots of specific details from its context. If the AI does not know the answer to a question, it truthfully says it does not know.\n",
      "\n",
      "Current conversation:\n",
      "[SystemMessage(content=\"Current summary:\\n\\nNone (starting from scratch)\\n\\nNew lines of conversation:\\nHuman: Hi, I'm Rezvan. I'm learning Python.\\nAI: Nice to meet you, Rezvan! I'm happy to help with your Python journey. What specifically are you trying to learn or accomplish in Python? Are you working on a project, exploring libraries like NumPy or Pandas, or perhaps diving into machine learning with scikit-learn or TensorFlow?\\n\\nNew summary:\\nRezvan is learning Python and has just introduced themselves to the AI.\", additional_kwargs={}, response_metadata={})]\n",
      "Human: I struggle with writing functions.\n",
      "AI:\u001b[0m\n",
      "\n",
      "\u001b[1m> Finished chain.\u001b[0m\n",
      "Writing functions can be a bit challenging at first, but don't worry, it's a crucial part of programming in Python. Functions help you organize your code into reusable blocks that make it easier to understand and maintain.\n",
      "\n",
      "To get started, let me ask: what specifically do you struggle with when writing functions? Is it deciding on the function signature (i.e., the parameters and return type), implementing the logic inside the function, or something else?\n",
      "\n",
      "Also, have you had a chance to explore any resources or tutorials on writing functions in Python? For example, the official Python documentation has a section on defining functions that might be helpful.\n",
      "\n",
      "New summary:\n",
      "Rezvan is learning Python, introduced themselves to the AI, and mentioned struggling with writing functions.\n"
     ]
    }
   ],
   "source": [
    "response = conversation.invoke({\"input\": \"I struggle with writing functions.\"})\n",
    "print(response[\"response\"])\n",
    "\n",
    "\n"
   ]
  },
  {
   "cell_type": "code",
   "execution_count": 5,
   "id": "8690b323",
   "metadata": {},
   "outputs": [
    {
     "name": "stdout",
     "output_type": "stream",
     "text": [
      "\n",
      "\n",
      "\u001b[1m> Entering new ConversationChain chain...\u001b[0m\n",
      "Prompt after formatting:\n",
      "\u001b[32;1m\u001b[1;3mThe following is a friendly conversation between a human and an AI. The AI is talkative and provides lots of specific details from its context. If the AI does not know the answer to a question, it truthfully says it does not know.\n",
      "\n",
      "Current conversation:\n",
      "[SystemMessage(content='Here is the new summary:\\n\\nRezvan is learning Python, introduced themselves to the AI, and mentioned struggling with writing functions. They are seeking help from the AI on what they struggle with specifically when writing functions (e.g., deciding on function signature or implementing logic) and have not yet explored any resources or tutorials on this topic.', additional_kwargs={}, response_metadata={})]\n",
      "Human: Can you remind me what I said earlier?\n",
      "AI:\u001b[0m\n",
      "\n",
      "\u001b[1m> Finished chain.\u001b[0m\n",
      "You introduced yourself to me and mentioned that you're learning Python. You specifically mentioned struggling with writing functions, and you'd like some help figuring out what's tricky for you when it comes to writing them. You haven't looked at any resources or tutorials on this topic yet, so we can start from scratch!\n"
     ]
    }
   ],
   "source": [
    "response = conversation.invoke({\"input\": \"Can you remind me what I said earlier?\"})\n",
    "print(response[\"response\"])\n",
    "\n"
   ]
  },
  {
   "cell_type": "code",
   "execution_count": 6,
   "id": "8a7910df",
   "metadata": {},
   "outputs": [
    {
     "name": "stdout",
     "output_type": "stream",
     "text": [
      "\n",
      "\n",
      "\u001b[1m> Entering new ConversationChain chain...\u001b[0m\n",
      "Prompt after formatting:\n",
      "\u001b[32;1m\u001b[1;3mThe following is a friendly conversation between a human and an AI. The AI is talkative and provides lots of specific details from its context. If the AI does not know the answer to a question, it truthfully says it does not know.\n",
      "\n",
      "Current conversation:\n",
      "[SystemMessage(content='Here is the new summary:\\n\\nRezvan is learning Python, introduced themselves to the AI, and mentioned struggling with writing functions. They are seeking help from the AI on what they struggle with specifically when writing functions (e.g., deciding on function signature or implementing logic) and have not yet explored any resources or tutorials on this topic.', additional_kwargs={}, response_metadata={})]\n",
      "Human: Give me a tip for improving my Python skills.\n",
      "AI:\u001b[0m\n",
      "\n",
      "\u001b[1m> Finished chain.\u001b[0m\n",
      "I'm happy to help!\n",
      "\n",
      "One thing that might be helpful is to focus on writing small, focused functions that do one thing well. This can make it easier to understand and debug your code.\n",
      "\n",
      "For example, if you're trying to solve a problem that requires filtering a list of items based on certain conditions, you could write separate functions for each step of the process: one function to filter out items that don't meet the condition, another function to transform the filtered list into the desired format, and so on. This can make it easier to see where your code is going wrong and to fix any issues.\n",
      "\n",
      "Additionally, I'd recommend practicing with simple exercises or problems from platforms like LeetCode, HackerRank, or Codewars. These resources provide a wealth of coding challenges that you can work through to improve your skills in specific areas, such as writing functions.\n",
      "\n",
      "Does this tip resonate with you?\n"
     ]
    }
   ],
   "source": [
    "response = conversation.invoke({\"input\": \"Give me a tip for improving my Python skills.\"})\n",
    "print(response[\"response\"])"
   ]
  },
  {
   "cell_type": "code",
   "execution_count": null,
   "id": "7aeffc2a",
   "metadata": {},
   "outputs": [],
   "source": []
  }
 ],
 "metadata": {
  "kernelspec": {
   "display_name": "venv",
   "language": "python",
   "name": "python3"
  },
  "language_info": {
   "codemirror_mode": {
    "name": "ipython",
    "version": 3
   },
   "file_extension": ".py",
   "mimetype": "text/x-python",
   "name": "python",
   "nbconvert_exporter": "python",
   "pygments_lexer": "ipython3",
   "version": "3.12.3"
  }
 },
 "nbformat": 4,
 "nbformat_minor": 5
}
