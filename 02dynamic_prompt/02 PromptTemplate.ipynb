{
 "cells": [
  {
   "cell_type": "code",
   "execution_count": 1,
   "id": "05c7e548",
   "metadata": {},
   "outputs": [
    {
     "name": "stdout",
     "output_type": "stream",
     "text": [
      "\"Learning programming is not just about writing code, it's about building a new skill that can open doors to countless opportunities and empower you to create something truly remarkable. With persistence and dedication, you'll be amazed at what you're capable of achieving, and the sense of accomplishment will be incredibly fulfilling. So take the first step, start coding, and get ready to unlock your full potential!\"\n"
     ]
    }
   ],
   "source": [
    "from langchain_ollama import OllamaLLM\n",
    "from langchain.prompts import PromptTemplate\n",
    "\n",
    "# Local Model\n",
    "llm = OllamaLLM(model=\"llama3\", temperature=0.7)\n",
    "\n",
    "# Prompt \n",
    "prompt = PromptTemplate.from_template(\n",
    "    \"Write a motivational text for someone who wants to learn programming in 3 sentence.\"\n",
    ")\n",
    "\n",
    "# استفاده از LangChain Expression Language (LCEL)\n",
    "chain = prompt | llm\n",
    "\n",
    "# اجرای زنجیره\n",
    "response = chain.invoke({})\n",
    "print(response)\n"
   ]
  },
  {
   "cell_type": "markdown",
   "id": "0f26a00c",
   "metadata": {},
   "source": [
    "# One Dynamic Variable"
   ]
  },
  {
   "cell_type": "code",
   "execution_count": 2,
   "id": "9733c464",
   "metadata": {},
   "outputs": [],
   "source": [
    "# استفاده از LangChain Expression Language (LCEL)\n",
    "\n",
    "\n",
    "\n",
    "prompt = PromptTemplate.from_template(\n",
    "    \"Write a motivational text for someone who wants to learn {topic} in 3 sentences.\"\n",
    ")\n",
    "\n",
    "chain = prompt | llm\n",
    "\n",
    "response = chain.invoke({\"topic\": \"programming\"})\n"
   ]
  },
  {
   "cell_type": "code",
   "execution_count": 3,
   "id": "64b642b3",
   "metadata": {},
   "outputs": [
    {
     "data": {
      "text/plain": [
       "'\"Learning programming is an incredible journey that can unlock new doors of opportunity and challenge your mind in ways you never thought possible! With dedication and persistence, you\\'ll be amazed at how quickly you can progress and achieve your goals. Remember, every line of code written is a step closer to bringing your ideas to life, so keep pushing forward and believe in yourself - the best is yet to come!\"'"
      ]
     },
     "execution_count": 3,
     "metadata": {},
     "output_type": "execute_result"
    }
   ],
   "source": [
    "response"
   ]
  },
  {
   "cell_type": "code",
   "execution_count": 5,
   "id": "9909727c",
   "metadata": {},
   "outputs": [
    {
     "name": "stdout",
     "output_type": "stream",
     "text": [
      "\"Learning programming is an incredible journey that can unlock new doors of opportunity and challenge your mind in ways you never thought possible! With dedication and persistence, you'll be amazed at how quickly you can progress and achieve your goals\n",
      "Remember, every line of code written is a step closer to bringing your ideas to life, so keep pushing forward and believe in yourself - the best is yet to come!\"\n"
     ]
    }
   ],
   "source": [
    "# تبدیل \\n به خط واقعی\n",
    "lines = response.split(\".\")\n",
    "\n",
    "# چاپ مرتب خط به خط\n",
    "for i, line in enumerate(lines, start=1):\n",
    "    print(f\"{line.strip()}\")"
   ]
  },
  {
   "cell_type": "markdown",
   "id": "5586c4a6",
   "metadata": {},
   "source": [
    "# Two Dynamic Variable"
   ]
  },
  {
   "cell_type": "code",
   "execution_count": 6,
   "id": "9403d143",
   "metadata": {},
   "outputs": [],
   "source": [
    "from langchain.prompts import PromptTemplate\n",
    "\n",
    "prompt = PromptTemplate.from_template(\n",
    "    \"Write a motivational message for someone learning {topic} in {style} style.\"\n",
    ")\n",
    "\n",
    "chain = prompt | llm\n",
    "\n",
    "response = (prompt | llm).invoke({\n",
    "    \"topic\": \"Python programming\",\n",
    "    \"style\": \"funny\"\n",
    "})\n",
    "\n"
   ]
  },
  {
   "cell_type": "code",
   "execution_count": 7,
   "id": "2299717a",
   "metadata": {},
   "outputs": [
    {
     "data": {
      "text/plain": [
       "'\"Hey there, future Python master!\\n\\nListen up, because I\\'ve got some crucial advice to share with you: **YOU GOT THIS** (or at least, you will after a few hours of struggling with indentation).\\n\\nLearning Python is like trying to tame a wild cat - it may look cute and fluffy at first, but soon you\\'ll be scratching your head wondering why it won\\'t just do what you want. BUT DON\\'T WORRY, that\\'s just part of the fun!\\n\\nHere are some super important tips to keep in mind:\\n\\n* **Don\\'t worry about making mistakes**... because let\\'s face it, you will make plenty of them. Just think of it as \"character-building\" or \"gaining experience\" (read: getting more frustrated and throwing your keyboard out the window).\\n* **Practice, practice, practice**! The more code you write, the more likely you are to accidentally create a viral meme that spreads across the internet (just kidding... or am I?).\\n* **Join online communities**! There are tons of awesome Python enthusiasts out there who will help you debug your code and make fun of your terrible puns.\\n\\nRemember, learning Python is like baking a cake - it takes time, patience, and a willingness to add weird ingredients and hope for the best. BUT TRUST ME, the end result will be totally worth it!\\n\\nSo go ahead, give Python a try, and don\\'t forget to laugh at yourself when you realize your code looks like a hot mess (it\\'s okay, we\\'ve all been there).\\n\\nBest of luck on your coding adventure!\"'"
      ]
     },
     "execution_count": 7,
     "metadata": {},
     "output_type": "execute_result"
    }
   ],
   "source": [
    "response"
   ]
  },
  {
   "cell_type": "code",
   "execution_count": 9,
   "id": "190aad5c",
   "metadata": {},
   "outputs": [
    {
     "name": "stdout",
     "output_type": "stream",
     "text": [
      "\"Hey there, future Python master!\n",
      "\n",
      "Listen up, because I've got some crucial advice to share with you: **YOU GOT THIS** (or at least, you will after a few hours of struggling with indentation)\n",
      "Learning Python is like trying to tame a wild cat - it may look cute and fluffy at first, but soon you'll be scratching your head wondering why it won't just do what you want\n",
      "BUT DON'T WORRY, that's just part of the fun!\n",
      "\n",
      "Here are some super important tips to keep in mind:\n",
      "\n",
      "* **Don't worry about making mistakes**\n",
      "\n",
      "\n",
      "because let's face it, you will make plenty of them\n",
      "Just think of it as \"character-building\" or \"gaining experience\" (read: getting more frustrated and throwing your keyboard out the window)\n",
      "* **Practice, practice, practice**! The more code you write, the more likely you are to accidentally create a viral meme that spreads across the internet (just kidding\n",
      "\n",
      "\n",
      "or am I?)\n",
      "* **Join online communities**! There are tons of awesome Python enthusiasts out there who will help you debug your code and make fun of your terrible puns\n",
      "Remember, learning Python is like baking a cake - it takes time, patience, and a willingness to add weird ingredients and hope for the best\n",
      "BUT TRUST ME, the end result will be totally worth it!\n",
      "\n",
      "So go ahead, give Python a try, and don't forget to laugh at yourself when you realize your code looks like a hot mess (it's okay, we've all been there)\n",
      "Best of luck on your coding adventure!\"\n"
     ]
    }
   ],
   "source": [
    "# تبدیل \\n به خط واقعی\n",
    "lines = response.split(\".\")\n",
    "\n",
    "# چاپ مرتب خط به خط\n",
    "for i, line in enumerate(lines, start=1):\n",
    "    print(f\"{line.strip()}\")"
   ]
  },
  {
   "cell_type": "markdown",
   "id": "5b86b7b5",
   "metadata": {},
   "source": [
    "# Exercise"
   ]
  },
  {
   "cell_type": "code",
   "execution_count": 12,
   "id": "2dbb91e9",
   "metadata": {},
   "outputs": [],
   "source": [
    "from langchain_ollama import OllamaLLM\n",
    "from langchain.prompts import PromptTemplate\n",
    "\n",
    "# Local Model\n",
    "llm = OllamaLLM(model=\"llama3\", temperature=0.7)\n"
   ]
  },
  {
   "cell_type": "code",
   "execution_count": 13,
   "id": "ff306fe4",
   "metadata": {},
   "outputs": [
    {
     "name": "stdout",
     "output_type": "stream",
     "text": [
      "\n",
      "--- JavaScript (encouraging) ---\n",
      "\"You've got this, JavaScript learner - every bug you squash and every feature you add is a testament to your growing skills and the awesomely cool things you'll be able to build with this powerful language!\"\n",
      "**************************************************\n",
      "\n",
      "--- Rust (funny) ---\n",
      "\"Rust is like the cool, edgy cousin of programming languages - it's gonna make you feel like a total boss when you finally get that borrow checker to stop yelling at you!\"\n",
      "**************************************************\n",
      "\n",
      "--- AI (serious) ---\n",
      "\"As you embark on the journey to master Artificial Intelligence, remember that every line of code written, every algorithm learned, and every challenge overcome brings you closer to unlocking the vast potential of this revolutionary field and shaping its future.\"\n",
      "**************************************************\n"
     ]
    }
   ],
   "source": [
    "inputs = [\n",
    "    {\"topic\": \"JavaScript\", \"tone\": \"encouraging\"},\n",
    "    {\"topic\": \"Rust\", \"tone\": \"funny\"},\n",
    "    {\"topic\": \"AI\", \"tone\": \"serious\"},\n",
    "]\n",
    "\n",
    "\n",
    "prompt = PromptTemplate.from_template(\n",
    "    \"Write a motivational message for someone learning {topic} in {tone} style. in 1 sentence\"\n",
    ")\n",
    "\n",
    "\n",
    "for inp in inputs:\n",
    "\n",
    "\n",
    "    response = (prompt | llm).invoke(inp)\n",
    "    print(f\"\\n--- {inp['topic']} ({inp['tone']}) ---\\n{response}\")\n",
    "\n",
    "    print(50 * \"*\")\n"
   ]
  },
  {
   "cell_type": "code",
   "execution_count": null,
   "id": "371ce29d",
   "metadata": {},
   "outputs": [],
   "source": []
  }
 ],
 "metadata": {
  "kernelspec": {
   "display_name": "venv",
   "language": "python",
   "name": "python3"
  },
  "language_info": {
   "codemirror_mode": {
    "name": "ipython",
    "version": 3
   },
   "file_extension": ".py",
   "mimetype": "text/x-python",
   "name": "python",
   "nbconvert_exporter": "python",
   "pygments_lexer": "ipython3",
   "version": "3.12.3"
  }
 },
 "nbformat": 4,
 "nbformat_minor": 5
}
