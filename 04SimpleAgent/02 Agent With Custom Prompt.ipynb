{
 "cells": [
  {
   "cell_type": "code",
   "execution_count": 1,
   "id": "1a9f28b1",
   "metadata": {},
   "outputs": [
    {
     "name": "stderr",
     "output_type": "stream",
     "text": [
      "C:\\Users\\rezva\\AppData\\Local\\Temp\\ipykernel_15376\\2075144467.py:25: LangChainDeprecationWarning: LangChain agents will continue to be supported, but it is recommended for new use cases to be built with LangGraph. LangGraph offers a more flexible and full-featured framework for building agents, including support for tool-calling, persistence of state, and human-in-the-loop workflows. For details, refer to the `LangGraph documentation <https://langchain-ai.github.io/langgraph/>`_ as well as guides for `Migrating from AgentExecutor <https://python.langchain.com/docs/how_to/migrate_agent/>`_ and LangGraph's `Pre-built ReAct agent <https://langchain-ai.github.io/langgraph/how-tos/create-react-agent/>`_.\n",
      "  agent_executor = initialize_agent(\n"
     ]
    },
    {
     "name": "stdout",
     "output_type": "stream",
     "text": [
      "80\n"
     ]
    }
   ],
   "source": [
    "from langchain_ollama import OllamaLLM\n",
    "from langchain.agents import Tool, AgentExecutor, initialize_agent\n",
    "from langchain.tools import tool\n",
    "from langchain.prompts import PromptTemplate\n",
    "\n",
    "# Local Model\n",
    "llm = OllamaLLM(model=\"llama3\", temperature=0.7)\n",
    "\n",
    "# Create tool for Agent\n",
    "@tool\n",
    "def calculator(expression: str) -> str:\n",
    "    \"\"\"Evaluate a math expression.\"\"\"\n",
    "    try:\n",
    "        return str(eval(expression))\n",
    "    except Exception as e:\n",
    "        return f\"Error: {e}\"\n",
    "\n",
    "tools = [calculator]\n",
    "\n",
    "custom_prompt = PromptTemplate.from_template(\n",
    "    \"You are a smart assistant. If the user gives you a math expression, use the calculator tool to solve it. Otherwise, just answer normally.\\n\\nUser: {input}\"\n",
    ")\n",
    "\n",
    "# Create Classic Agent\n",
    "agent_executor = initialize_agent(\n",
    "    tools=tools,\n",
    "    llm=llm,\n",
    "    agent_type=\"zero-shot-react-description\",\n",
    "    prompt=custom_prompt,\n",
    "    verbose=False\n",
    ")\n",
    "\n",
    "# Run Agent\n",
    "response = agent_executor.invoke({\"input\": \"What is (17 + 23) * 2?\"})\n",
    "print(response[\"output\"])\n"
   ]
  },
  {
   "cell_type": "code",
   "execution_count": null,
   "id": "a28873ad",
   "metadata": {},
   "outputs": [],
   "source": []
  }
 ],
 "metadata": {
  "kernelspec": {
   "display_name": "venv",
   "language": "python",
   "name": "python3"
  },
  "language_info": {
   "codemirror_mode": {
    "name": "ipython",
    "version": 3
   },
   "file_extension": ".py",
   "mimetype": "text/x-python",
   "name": "python",
   "nbconvert_exporter": "python",
   "pygments_lexer": "ipython3",
   "version": "3.12.3"
  }
 },
 "nbformat": 4,
 "nbformat_minor": 5
}
